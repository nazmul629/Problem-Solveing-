{
 "cells": [
  {
   "cell_type": "code",
   "execution_count": null,
   "metadata": {},
   "outputs": [
    {
     "name": "stdout",
     "output_type": "stream",
     "text": [
      "4\n",
      "Namukas\n",
      "N = 1\n",
      "a = 2\n",
      "k = 1\n",
      "m = 1\n",
      "s = 1\n",
      "u = 1\n",
      "\n",
      "my asja\n",
      "  = 1\n",
      "a = 2\n",
      "j = 1\n",
      "m = 1\n",
      "s = 1\n",
      "y = 1\n",
      "\n"
     ]
    }
   ],
   "source": [
    "T = int(input())\n",
    "for i in range(T):\n",
    "    sentence  = input().strip()\n",
    "    article = sorted(list(set(sentence)))\n",
    "    for letter in article:\n",
    "        if letter == ' ':\n",
    "            continue\n",
    "        print('{} = {}'.format(letter,sentence.count(letter)))\n",
    "     \n",
    "    if i<T-1:\n",
    "        print()\n",
    "\n",
    "        "
   ]
  },
  {
   "cell_type": "code",
   "execution_count": null,
   "metadata": {},
   "outputs": [],
   "source": []
  },
  {
   "cell_type": "code",
   "execution_count": null,
   "metadata": {},
   "outputs": [],
   "source": []
  }
 ],
 "metadata": {
  "kernelspec": {
   "display_name": "Python 3",
   "language": "python",
   "name": "python3"
  },
  "language_info": {
   "codemirror_mode": {
    "name": "ipython",
    "version": 3
   },
   "file_extension": ".py",
   "mimetype": "text/x-python",
   "name": "python",
   "nbconvert_exporter": "python",
   "pygments_lexer": "ipython3",
   "version": "3.7.4"
  }
 },
 "nbformat": 4,
 "nbformat_minor": 2
}
