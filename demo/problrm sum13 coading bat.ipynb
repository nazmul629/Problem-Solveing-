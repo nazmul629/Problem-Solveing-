{
 "cells": [
  {
   "cell_type": "code",
   "execution_count": 30,
   "metadata": {},
   "outputs": [
    {
     "data": {
      "text/plain": [
       "6"
      ]
     },
     "execution_count": 30,
     "metadata": {},
     "output_type": "execute_result"
    }
   ],
   "source": [
    "def sum13(nums):\n",
    "  l = len(nums)\n",
    "  tot = 0\n",
    "\n",
    "  if l==0:\n",
    "    return 0\n",
    "\n",
    "  for x in range(l):\n",
    "    if nums[x]!=13:\n",
    "#       if nums[x-1]!=13:\n",
    "        tot+=nums[x]\n",
    "\n",
    "  return tot\n",
    "# sum13([1, 2, 13, 2, 1, 13]) \n",
    "sum13([1, 2, 2, 1, 13]) "
   ]
  },
  {
   "cell_type": "code",
   "execution_count": 26,
   "metadata": {},
   "outputs": [
    {
     "data": {
      "text/plain": [
       "1"
      ]
     },
     "execution_count": 26,
     "metadata": {},
     "output_type": "execute_result"
    }
   ],
   "source": [
    "def last2(str):\n",
    "    \n",
    "    if len(str) < 2:\n",
    "        return 0\n",
    "    \n",
    "    last2 = str[len(str)-2:]\n",
    "    count = 0\n",
    "\n",
    "    for i in range(len(str)-2):\n",
    "        sub =  str[i:i+2]\n",
    "        \n",
    "        if sub == last2:\n",
    "            count+=1\n",
    "    return count\n",
    "last2('hixxhi')"
   ]
  },
  {
   "cell_type": "code",
   "execution_count": 29,
   "metadata": {},
   "outputs": [
    {
     "data": {
      "text/plain": [
       "False"
      ]
     },
     "execution_count": 29,
     "metadata": {},
     "output_type": "execute_result"
    }
   ],
   "source": [
    "def array123(nums):\n",
    "  \n",
    "  for i in range(len(nums)):\n",
    "    if(nums[i] == 1 and nums[i+1]==2 and nums[i+2]==3):\n",
    "      return True\n",
    "    else:\n",
    "      return False\n",
    "array123([1, 1, 2, 1, 2, 3]) "
   ]
  },
  {
   "cell_type": "code",
   "execution_count": null,
   "metadata": {},
   "outputs": [],
   "source": []
  }
 ],
 "metadata": {
  "kernelspec": {
   "display_name": "Python 3",
   "language": "python",
   "name": "python3"
  },
  "language_info": {
   "codemirror_mode": {
    "name": "ipython",
    "version": 3
   },
   "file_extension": ".py",
   "mimetype": "text/x-python",
   "name": "python",
   "nbconvert_exporter": "python",
   "pygments_lexer": "ipython3",
   "version": "3.7.4"
  }
 },
 "nbformat": 4,
 "nbformat_minor": 2
}
